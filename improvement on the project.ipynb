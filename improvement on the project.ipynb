{
 "cells": [
  {
   "cell_type": "markdown",
   "id": "e8da8657",
   "metadata": {},
   "source": [
    "<b>Making new images with multiple MNIST digits</b>"
   ]
  },
  {
   "cell_type": "code",
   "execution_count": 3,
   "id": "bddef208",
   "metadata": {
    "scrolled": true
   },
   "outputs": [
    {
     "data": {
      "image/png": "[encoded data removed]",
      "text/plain": [
       "<Figure size 432x288 with 1 Axes>"
      ]
     },
     "metadata": {
      "needs_background": "light"
     },
     "output_type": "display_data"
    },
    {
     "name": "stdout",
     "output_type": "stream",
     "text": [
      "<class 'numpy.ndarray'>\n"
     ]
    }
   ],
   "source": [
    "import cv2\n",
    "import random\n",
    "import numpy as np\n",
    "import matplotlib.pyplot as plt\n",
    "import PIL \n",
    "whiteblankimage = 255 * np.ones(shape=[200, 200,3], dtype=np.uint8)\n",
    "\n",
    "\n",
    "#cv2.rectangle(whiteblankimage, pt1=(200,200), pt2=(300,300), color=(0,0,255), thickness=10)\n",
    "\n",
    "plt.imshow(whiteblankimage)\n",
    "\n",
    "plt.show()\n",
    "\n",
    "print(type(whiteblankimage))\n",
    "bg=PIL.Image.fromarray(whiteblankimage)"
   ]
  },
  {
   "cell_type": "code",
   "execution_count": 5,
   "id": "b5d044cd",
   "metadata": {},
   "outputs": [],
   "source": [
    "import cv2\n",
    "import numpy \n",
    "# scipy.special for the sigmoid function: expit()\n",
    "import scipy.special\n",
    "# library for plotting arrays\n",
    "import matplotlib.pyplot \n",
    "# ensure the plots are inside this notebook, not an external window\n",
    "%matplotlib inline\n",
    "import PIL\n",
    "import random\n",
    "import array"
   ]
  },
  {
   "cell_type": "code",
   "execution_count": 6,
   "id": "e456369a",
   "metadata": {},
   "outputs": [],
   "source": [
    "# Import the original data csv file\n",
    "\n",
    "test_data_file = open(\"one.csv\",'r')         # r means open the file to read (only)\n",
    "test_data_list = test_data_file.readlines()     # read the file as lines / records\n",
    "test_data_file.close()                         # always close the file"
   ]
  },
  {
   "cell_type": "code",
   "execution_count": 11,
   "id": "b30d8b5e",
   "metadata": {},
   "outputs": [
    {
     "name": "stdout",
     "output_type": "stream",
     "text": [
      "        Label =  7\n"
     ]
    },
    {
     "data": {
      "image/png": "[encoded data removed]",
      "text/plain": [
       "<PIL.Image.Image image mode=RGB size=200x200 at 0x25890232CD0>"
      ]
     },
     "metadata": {},
     "output_type": "display_data"
    },
    {
     "data": {
      "image/png": "[encoded data removed]",
      "text/plain": [
       "<Figure size 432x288 with 4 Axes>"
      ]
     },
     "metadata": {
      "needs_background": "light"
     },
     "output_type": "display_data"
    }
   ],
   "source": [
    "# read the data from the long list (test_data_list) convert the data into a 28 x 28 array, then plot\n",
    "\n",
    "\n",
    "new_list=[]  #empty list\n",
    "for record in test_data_list:                  # test_data_list is all the values in the test file\n",
    "    all_values = record.split(',')             # split each record (image) into values seperated by commas\n",
    "    correct_label = int(all_values[0])         # the first value is the lable\n",
    "    inputs = (numpy.asfarray(all_values[1:]))    \n",
    "    \n",
    "    \n",
    "    image = numpy.asfarray(inputs.reshape((28,28)))    # the list is made into an array\n",
    "    \n",
    "    \n",
    "    #matplotlib.pyplot.imshow(image, cmap = 'Greys',interpolation='nearest') \n",
    "    #matplotlib.pyplot.get_cmap('Blues')        #different color\n",
    "    #matplotlib.pyplot.figure(count)             # make a figure out of the array\n",
    "    #matplotlib.pyplot.show()                    # show the current image\n",
    "\n",
    "\n",
    "    print(\"        Label = \",correct_label)\n",
    "    image2= cv2.rotate(image, cv2.ROTATE_180)    #rotate the image by fix value of angle\n",
    "    #matplotlib.pyplot.imshow(image2)            #show the modified image\n",
    "    #other options\n",
    "    rotate_90 = cv2.rotate(image, cv2.ROTATE_90_CLOCKWISE)   \n",
    "    rotate_90_counter = cv2.rotate(image, cv2.ROTATE_90_COUNTERCLOCKWISE) \n",
    "       \n",
    "\n",
    "    #subplot(r,c) provide the no. of rows and columns\n",
    "    fig, axs = matplotlib.pyplot .subplots(2,2) \n",
    "    #set spaces autonomically between plots\n",
    "    fig.tight_layout()\n",
    "    # use the created array to output your multiple images. \n",
    "    axs[0, 0].imshow(image,cmap = 'Greys',interpolation='nearest')\n",
    "    axs[0, 0].set_title('original image')\n",
    "    axs[0, 1].imshow(image2,cmap = 'Greys',interpolation='nearest')\n",
    "    axs[0, 1].set_title('ROTATE_180')\n",
    "    axs[1, 0].imshow(rotate_90,cmap = matplotlib.pyplot.get_cmap('Blues'),interpolation='nearest')\n",
    "    axs[1, 0].set_title('ROTATE_90_CLOCKWISE')\n",
    "    axs[1, 1].imshow(rotate_90_counter)\n",
    "    axs[1, 1].set_title('ROTATE_90_COUNTERCLOCKWISE')\n",
    "    \n",
    "    \n",
    "    # convert the array into PIL.image\n",
    "    image11=PIL.Image.fromarray(image)\n",
    "    image22=PIL.Image.fromarray(image2)\n",
    "    #save the rotated image\n",
    "    #matplotlib.pyplot.imsave(\"{}.png\".format(count),image2)\n",
    "\n",
    "    #convert to array with type of integer\n",
    "    n1=numpy.asarray(image,dtype=int)\n",
    "    n2=numpy.asarray(image2,dtype=int)\n",
    "    n3=numpy.asarray(rotate_90,dtype=int)\n",
    "    n4=numpy.asarray(rotate_90_counter,dtype=int)\n",
    "     \n",
    "    #convert to one dimension\n",
    "    new1=n1.flatten()\n",
    "    new2=n2.flatten()\n",
    "    new3=n3.flatten()\n",
    "    new4=n4.flatten()\n",
    "    #combine label with 784 pixel values\n",
    "    new1= numpy.concatenate(([correct_label],new1))\n",
    "    new2= numpy.concatenate(([correct_label],new2))\n",
    "    new3= numpy.concatenate(([correct_label],new3))\n",
    "    new4= numpy.concatenate(([correct_label],new4))\n",
    "\n",
    "    #append the list of pixels values to the empty list\n",
    "    new_list.append(new1)\n",
    "    new_list.append(new2)\n",
    "    new_list.append(new3)\n",
    "    new_list.append(new4)\n",
    "\n",
    "    #append two digit images to the background image\n",
    "    width, height = 200,200\n",
    "    x = random.randint(20, width-40)\n",
    "    y = random.randint(20, height-40)\n",
    "    bg.paste(image11, (x, y))\n",
    "    bg.paste(image22, (x, y))\n",
    "    \n",
    "    #bg.save('‪result.png', 'PNG')\n",
    "    display(bg)\n",
    "\n",
    "    #print(type(image))   \n",
    "#save the four rows of pixel values into a new csv file\n",
    "numpy.savetxt(\"one_task1.csv\", new_list,delimiter=',', fmt='%d',newline='\\n')    "
   ]
  },
  {
   "cell_type": "code",
   "execution_count": null,
   "id": "c1a85ee1",
   "metadata": {},
   "outputs": [],
   "source": []
  },
  {
   "cell_type": "code",
   "execution_count": null,
   "id": "883b3c35",
   "metadata": {},
   "outputs": [],
   "source": []
  }
 ],
 "metadata": {
  "kernelspec": {
   "display_name": "Python 3 (ipykernel)",
   "language": "python",
   "name": "python3"
  },
  "language_info": {
   "codemirror_mode": {
    "name": "ipython",
    "version": 3
   },
   "file_extension": ".py",
   "mimetype": "text/x-python",
   "name": "python",
   "nbconvert_exporter": "python",
   "pygments_lexer": "ipython3",
   "version": "3.9.7"
  }
 },
 "nbformat": 4,
 "nbformat_minor": 5
}
